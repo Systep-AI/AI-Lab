{
 "cells": [
  {
   "cell_type": "markdown",
   "metadata": {
    "id": "QkC6T4zE6GHK"
   },
   "source": [
    "# **OCR**\n",
    "\n",
    "En este notebook veremos cómo **parsear documentos** con [LlamaParse](https://pypi.org/project/llama-parse/) para extraer texto de forma estructurada y confiable.  \n",
    "\n",
    "El flujo principal será:\n",
    "\n",
    "1. **Instalación de dependencias.**  \n",
    "2. **Importación de librerías.**  \n",
    "3. **Configuración previa (variables de entorno).**  \n",
    "4. **Definir la ruta del documento PDF final.**  \n",
    "5. **Establecer instrucciones de parseo (OCR y formato).**  \n",
    "6. **Procesar el PDF con LlamaParse.**  \n",
    "7. **Almacenar el texto resultante en un archivo local.**  \n",
    "8. **Visualizar una sección del documento parseado.**  \n",
    "\n",
    "\n",
    "\n",
    "## **Notas**\n",
    "- **LlamaParse** solo procesa documentos pdf. Si necesitas extraer texto de un archivo que NO sea PDF, consulta con el desarrollador para acceder a la **librería de conversión** para transformarlo en un PDF válido.\n",
    "- Configura la variable de entorno `LLAMA_CLOUD_API_KEY` con tu clave real para poder usar **LlamaParse**.\n",
    "- Ajusta los parámetros de `LlamaParse` (por ejemplo, `premium_mode`, `language`, etc.) en función de tus necesidades de OCR y parseo.\n",
    "- Para utilizar `premium_mode` consulta con el encargado de proporcionar las `API_KEY` debido a que su uso implica un costo adicional.\n",
    "\n"
   ]
  },
  {
   "cell_type": "markdown",
   "metadata": {
    "id": "uXlDEVN65lI6"
   },
   "source": [
    "# 2. Importar librerías"
   ]
  },
  {
   "cell_type": "code",
   "execution_count": 1,
   "metadata": {
    "executionInfo": {
     "elapsed": 6033,
     "status": "ok",
     "timestamp": 1740061571433,
     "user": {
      "displayName": "Camilo Gutierrez",
      "userId": "18212724788807677958"
     },
     "user_tz": 180
    },
    "id": "dWfnw5ox6eMy"
   },
   "outputs": [],
   "source": [
    "import os\n",
    "from llama_parse import LlamaParse"
   ]
  },
  {
   "cell_type": "markdown",
   "metadata": {
    "id": "IbsKqeIr95XC"
   },
   "source": [
    "# 3. Configuración Previa\n"
   ]
  },
  {
   "cell_type": "code",
   "execution_count": 2,
   "metadata": {
    "executionInfo": {
     "elapsed": 4,
     "status": "ok",
     "timestamp": 1740061571445,
     "user": {
      "displayName": "Camilo Gutierrez",
      "userId": "18212724788807677958"
     },
     "user_tz": 180
    },
    "id": "MJGUHLJb6xt1"
   },
   "outputs": [],
   "source": [
    "# Ajusta tu clave de LlamaParse aquí: (CONSULTA CON EL DESARROLLADOR PARA OBTENER LA API-KEY)\n",
    "os.environ[\"LLAMA_CLOUD_API_KEY\"] = \"llx-8v5h42HTpAHWUI3YlAnj1vKiFU9RizaF9w6APcg0AU0Lw7Pa\""
   ]
  },
  {
   "cell_type": "markdown",
   "metadata": {
    "id": "P-L3a9zd-DxP"
   },
   "source": [
    "# 4. Definir la ruta del documento PDF\n",
    "\n",
    "Puedes encontrar algunos archivos de ejemplo en el la carpeta del repositorio"
   ]
  },
  {
   "cell_type": "code",
   "execution_count": 8,
   "metadata": {
    "colab": {
     "base_uri": "https://localhost:8080/"
    },
    "executionInfo": {
     "elapsed": 10,
     "status": "ok",
     "timestamp": 1740063473207,
     "user": {
      "displayName": "Camilo Gutierrez",
      "userId": "18212724788807677958"
     },
     "user_tz": 180
    },
    "id": "vXOrN_vS_uG6",
    "outputId": "f53230b2-3111-4323-f483-3575a8f16ed7"
   },
   "outputs": [
    {
     "name": "stdout",
     "output_type": "stream",
     "text": [
      "Usaremos el archivo PDF en: documentos_prueba/11050.pdf\n"
     ]
    }
   ],
   "source": [
    "path_pdf_document = \"documentos_prueba/11050.pdf\"\n",
    "\n",
    "print(f\"Usaremos el archivo PDF en: {path_pdf_document}\")"
   ]
  },
  {
   "cell_type": "markdown",
   "metadata": {
    "id": "uDpnU8xB-0wf"
   },
   "source": [
    "# 5. Definición de las Instrucciones de Parseo\n",
    "\n",
    "Consiste en explicar, en términos generales la estructura del documento que se proporcionará y lo que se espera que haga el parser (por ejemplo, recuperar integramente el contenido y en idioa español)\n"
   ]
  },
  {
   "cell_type": "code",
   "execution_count": 4,
   "metadata": {
    "colab": {
     "base_uri": "https://localhost:8080/"
    },
    "executionInfo": {
     "elapsed": 21,
     "status": "ok",
     "timestamp": 1740062728225,
     "user": {
      "displayName": "Camilo Gutierrez",
      "userId": "18212724788807677958"
     },
     "user_tz": 180
    },
    "id": "L_7Jyw-w629x",
    "outputId": "15ad8eb2-e3e2-48ca-c550-9a5fc901825d"
   },
   "outputs": [
    {
     "name": "stdout",
     "output_type": "stream",
     "text": [
      "Instrucciones de parseo definidas.\n"
     ]
    }
   ],
   "source": [
    "parsing_instructions = '''\n",
    "The document contains structured text that includes headers, dates, names of individuals, institutions, and places, as well as numbered sections, lists, and tables. Many of these documents feature text that is highly deteriorated and requires careful interpretation, contextualization, and reconstruction. Non-essential elements, such as scratches, signatures, and diagonal annotations, must be omitted.\n",
    "To ensure the integrity of the extracted information, the text must be preserved in its literal form without summarizing, paraphrasing, or modifying its meaning. Treat each document as evidentiary material, prioritizing rigorous and faithful extraction practices.\n",
    "Recognize that most documents are typewritten, which introduces specific challenges such as ink smudges, duplicated letters, and words split across lines. Proactively correct these errors, ensuring clarity and precision in the recovered content.\n",
    "While processing, handle page breaks to maintain the narrative flow, and retain the original structure of tables and lists without flattening their format. Extract and clearly highlight key names, dates, and places. Quotes, dialogues, abbreviations, and codes must be preserved exactly as they appear. Non-textual elements should be omitted to focus solely on the written content.\n",
    "The output should adhere to Markdown formatting conventions but must not include code block tags such as markdown. Use bold formatting for headers, numbered or bulleted lists for structured sections, block quotes for quoted material, and Markdown-compatible tables for tabular data. Narrative text should be continuous, providing both factual information and detailed descriptions, while preserving the integrity and original context of the document. Additionally, prioritize correcting OCR-related errors caused by typewriter artifacts whenever possible.\n",
    "The response must be exclusively in the original language of the document, which is generally Spanish. No translation or language modification is allowed.\n",
    "'''\n",
    "\n",
    "print(\"Instrucciones de parseo definidas.\")\n"
   ]
  },
  {
   "cell_type": "markdown",
   "metadata": {
    "id": "Z6RKkVPo_KVq"
   },
   "source": [
    "# 6. Carga y Procesamiento del Documento con LlamaParse\n",
    "\n",
    "Para un mayor detalle de la configuración, visita las [opciones del parser](https://https://docs.cloud.llamaindex.ai/llamaparse/features/parsing_options)"
   ]
  },
  {
   "cell_type": "code",
   "execution_count": 9,
   "metadata": {
    "colab": {
     "base_uri": "https://localhost:8080/"
    },
    "executionInfo": {
     "elapsed": 28269,
     "status": "ok",
     "timestamp": 1740064792794,
     "user": {
      "displayName": "Camilo Gutierrez",
      "userId": "18212724788807677958"
     },
     "user_tz": 180
    },
    "id": "imGTpyta645_",
    "outputId": "f169061c-2ef2-4d34-e0df-fbed8231dc56"
   },
   "outputs": [
    {
     "name": "stdout",
     "output_type": "stream",
     "text": [
      "Started parsing the file under job_id 5c185a4e-1be7-46c3-9c4e-98ab2658d819\n",
      "\n",
      " Documento parseado correctamente. \n",
      "\n",
      "Total de secciones extraídas: 16\n"
     ]
    }
   ],
   "source": [
    "# Permite que asyncio funcione sin problemas en entornos con un loop de eventos en ejecución (como Jupyter o Colab)\n",
    "import nest_asyncio\n",
    "nest_asyncio.apply()\n",
    "\n",
    "# Carga y procesa el documento PDF usando LlamaParse con las configuraciones especificadas\n",
    "document = LlamaParse(\n",
    "    result_type=\"markdown\",        # Define que el resultado será en formato Markdown\n",
    "    premium_mode=False,            # No usa el modo premium (costo extra)\n",
    "    parsing_instructions=parsing_instructions,  # Instrucciones personalizadas para el parsing\n",
    "    language='es',                 # Define el idioma español para la extracción de texto. Un listado extenso de lenguajes admitidos está disponible en https://github.com/run-llama/llama_cloud_services/blob/main/llama_cloud_services/parse/utils.py#L16\n",
    "    skip_diagonal_text=True,        # Omite texto en diagonal para mejorar la limpieza del documento\n",
    "    do_not_unroll_columns=False     # LlamaParse intentará desenrollar las columnas (colocándolas una después de la otra en el orden de lectura). Si se establece do_not_unroll_columns = True, LlamaParse no podrá hacerlo.\n",
    ").load_data(path_pdf_document)      # Carga y extrae los datos del archivo PDF especificado\n",
    "\n",
    "\n",
    "print(\"\\n Documento parseado correctamente. \\n\")\n",
    "print(f\"Total de secciones extraídas: {len(document)}\")\n"
   ]
  },
  {
   "cell_type": "markdown",
   "metadata": {
    "id": "6a4CJUfgAQhB"
   },
   "source": [
    "# 7. Guardar el Texto Recuperado en un Archivo\n"
   ]
  },
  {
   "cell_type": "code",
   "execution_count": 10,
   "metadata": {
    "colab": {
     "base_uri": "https://localhost:8080/"
    },
    "executionInfo": {
     "elapsed": 51,
     "status": "ok",
     "timestamp": 1740060606393,
     "user": {
      "displayName": "Camilo Gutierrez",
      "userId": "18212724788807677958"
     },
     "user_tz": 180
    },
    "id": "Fz0YzlaR66o8",
    "outputId": "a4da18bb-82e4-4ddd-9925-2389e778dfbe"
   },
   "outputs": [
    {
     "name": "stdout",
     "output_type": "stream",
     "text": [
      "El archivo parseado ha sido guardado en: documentos_prueba/11050.txt\n"
     ]
    }
   ],
   "source": [
    "full_text = ''\n",
    "for i in range(len(document)):\n",
    "    full_text += '\\n\\n'\n",
    "    full_text += document[i].text\n",
    "\n",
    "# Crear archivo de salida\n",
    "path_txt_document = os.path.splitext(path_pdf_document)[0] + \".txt\"\n",
    "\n",
    "# Escribir el contenido parseado en un .txt\n",
    "with open(path_txt_document, \"w\") as file:\n",
    "    file.write(full_text)\n",
    "\n",
    "print(f\"El archivo parseado ha sido guardado en: {path_txt_document}\")\n"
   ]
  },
  {
   "cell_type": "markdown",
   "metadata": {
    "id": "753RmM4HAcj0"
   },
   "source": [
    "# 8. Visualización de una Página o Sección\n"
   ]
  },
  {
   "cell_type": "code",
   "execution_count": 12,
   "metadata": {
    "colab": {
     "base_uri": "https://localhost:8080/"
    },
    "executionInfo": {
     "elapsed": 7,
     "status": "ok",
     "timestamp": 1740060660963,
     "user": {
      "displayName": "Camilo Gutierrez",
      "userId": "18212724788807677958"
     },
     "user_tz": 180
    },
    "id": "Sm8kXa7_69WW",
    "outputId": "d6353b23-4ad7-4429-e154-03238b443fd3"
   },
   "outputs": [
    {
     "name": "stdout",
     "output_type": "stream",
     "text": [
      "# RESOLUCION EXENTA ELECTRONICA N° 11050\n",
      "\n",
      "Santiago, 01 de Marzo de 2022\n",
      "\n",
      "personas y, por tanto, la ejecución de tales estudios en los tiempos que habitualmente se requieren para estos efectos.\n",
      "\n",
      "En respuesta a la solicitud indicada en el párrafo anterior, el SEA, mediante Resolución Exenta N°197 de fecha 28 de septiembre de 2020 otorgó a Grenergy la extensión del plazo solicitado hasta el 30 de noviembre de 2020, esto es, por un término de 2 meses adicionales al de la suspensión por dicha autoridad ya decretada, reconociendo con ello, los argumentos referidos a la fuerza mayor que produjeron las medidas, restricciones sanitarias y de movilidad tomadas por la autoridad durante la pandemia.\n",
      "\n",
      "Luego, mediante carta de fecha 27 de noviembre de 2020, Grenergy solicitó al SEA que se mantuviera la suspensión del plazo de evaluación del procedimiento ambiental del Proyecto hasta el 15 de enero de 2021.\n",
      "\n",
      "Cabe señalar que, en dicho momento, continuaban las restricciones ya señaladas.\n",
      "\n",
      "En respuesta a la solicitud indicada en el párrafo anterior, el SEA, mediante resolución exenta N° 258 de fecha 30 de noviembre de 2020 otorgó a Grenergy la extensión del plazo solicitado hasta el 30 de diciembre de 2020.\n",
      "\n",
      "De acuerdo con lo anteriormente indicado, el Proyecto obtuvo una prórroga por 1 mes adicional al plazo ya otorgado. Posteriormente, con fecha 29 de diciembre de 2020, Grenergy presentó la adenda en respuesta del ICSARA N° 210/2020.\n",
      "\n",
      "Luego, el 29 de enero de 2021 el SEA dictó el ICSARA Complementario N° 32/2021, respecto del cual Grenergy debía presentar la correspondiente adenda complementaria con fecha 26 de febrero de 2021.\n",
      "\n",
      "No obstante lo anterior, mediante carta de fecha 23 de febrero de 2021, Grenergy solicitó al SEA que se mantuviera la suspensión del plazo de evaluación del procedimiento ambiental del Proyecto hasta el 9 de abril de 2021, con el objeto de responder adecuada y satisfactoriamente a las observaciones, rectificaciones y ampliaciones a la DIA, contenidas en el documento ICSARA Complementario N° 32/2021.\n",
      "\n",
      "En respuesta a la solicitud indicada en el párrafo anterior, el SEA, mediante Resolución Exenta N° 54 de fecha 23 de febrero de 2021, otorgó a Grenergy la extensión del plazo solicitado hasta el 9 de abril de 2021.\n",
      "\n",
      "De acuerdo con lo anteriormente indicado, el Proyecto obtuvo una prórroga por 1 mes y 15 días adicionales a la suspensión del plazo ya otorgada. Después, con fecha 9 de abril de 2021, Grenergy presentó la adenda complementaria en respuesta del ICSARA Complementaria N° 32/2021.\n",
      "\n",
      "Las razones que tuvo Grenergy para solicitar que se extendiera la suspensión fue la de responder adecuada y satisfactoriamente las observaciones, rectificaciones y ampliaciones a la DIA, contenidas en el documento ICSARA N° 210/2020, debido principalmente a la necesidad de ejecutar nuevos estudios que requerían necesariamente de trabajo en terreno, con el fin de dar respuestas fundadas que permitieran justificar la inexistencia de los efectos, características y circunstancias listados en el Artículo 11 de la Ley 19.300. En específico, se requirió mayor tiempo debido a la necesidad de procesar la información para dar respuesta a las observaciones realizadas por la Autoridad.\n",
      "\n",
      "Es importante mencionar que, la imposibilidad de realizar los estudios con mayor rapidez respondió principalmente a que en dicho momento el país se encontraba en pleno proceso de pandemia, producto del brote mundial del COVID-19, y bajo un Estado de Excepción Constitucional de Catástrofe en todo el territorio nacional, que impidió o ralentizó la movilidad de personas y por tanto ejecución de terrenos en gran parte del territorio nacional.\n",
      "\n",
      "Caso:1638434 Acción:3010697 Documento:3028738\n",
      "\n",
      "V°B° AOP/JSF/JCC/JCS/SL.\n",
      "\n",
      "https://wlhttp.sec.cl/timesM/global/imgPDF.jsp?pa=3010697&pd=3028738&pc=1638434\n",
      "\n",
      "Dirección: Avenida Bernardo O’Higgins 1465 – Santiago Downtown, Santiago Chile - www.sec.cl\n"
     ]
    }
   ],
   "source": [
    "# Puedes cambiar el índice en pagina_a_visualizar para ver otras partes del documento\n",
    "\n",
    "pagina_a_visualizar = 3\n",
    "\n",
    "if pagina_a_visualizar < len(document):\n",
    "    print(document[pagina_a_visualizar].text)\n",
    "else:\n",
    "    print(f\"Índice fuera de rango. El documento sólo tiene {len(document)} partes extraídas.\")\n"
   ]
  }
 ],
 "metadata": {
  "colab": {
   "provenance": [
    {
     "file_id": "https://github.com/lancedb/vectordb-recipes/blob/main/tutorials/Advace_RAG_LlamaParser/main.ipynb",
     "timestamp": 1726083614122
    }
   ]
  },
  "kernelspec": {
   "display_name": "venv_ailab",
   "language": "python",
   "name": "python3"
  },
  "language_info": {
   "codemirror_mode": {
    "name": "ipython",
    "version": 3
   },
   "file_extension": ".py",
   "mimetype": "text/x-python",
   "name": "python",
   "nbconvert_exporter": "python",
   "pygments_lexer": "ipython3",
   "version": "3.12.6"
  }
 },
 "nbformat": 4,
 "nbformat_minor": 0
}
